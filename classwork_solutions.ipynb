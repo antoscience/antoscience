{
  "cells": [
    {
      "cell_type": "markdown",
      "metadata": {
        "id": "view-in-github",
        "colab_type": "text"
      },
      "source": [
        "<a href=\"https://colab.research.google.com/github/antoscience/antoscience/blob/main/classwork_solutions.ipynb\" target=\"_parent\"><img src=\"https://colab.research.google.com/assets/colab-badge.svg\" alt=\"Open In Colab\"/></a>"
      ]
    },
    {
      "cell_type": "code",
      "execution_count": null,
      "id": "c9ad651a",
      "metadata": {
        "id": "c9ad651a",
        "outputId": "2a88f178-ec16-4df6-b390-db56d75aaad5"
      },
      "outputs": [
        {
          "name": "stdout",
          "output_type": "stream",
          "text": [
            "What is your age 333\n",
            "True\n"
          ]
        }
      ],
      "source": [
        "details = {'name': 'Onyekachi',\n",
        "          'age': 38,\n",
        "          'phone':'08038428482'}\n",
        "\n",
        "user_age = int(input(\"What is your age \"))\n",
        "\n",
        "print (user_age > details['age'])"
      ]
    },
    {
      "cell_type": "code",
      "execution_count": null,
      "id": "3f01fb94",
      "metadata": {
        "id": "3f01fb94"
      },
      "outputs": [],
      "source": []
    }
  ],
  "metadata": {
    "kernelspec": {
      "display_name": "Python 3 (ipykernel)",
      "language": "python",
      "name": "python3"
    },
    "language_info": {
      "codemirror_mode": {
        "name": "ipython",
        "version": 3
      },
      "file_extension": ".py",
      "mimetype": "text/x-python",
      "name": "python",
      "nbconvert_exporter": "python",
      "pygments_lexer": "ipython3",
      "version": "3.9.12"
    },
    "colab": {
      "provenance": [],
      "include_colab_link": true
    }
  },
  "nbformat": 4,
  "nbformat_minor": 5
}