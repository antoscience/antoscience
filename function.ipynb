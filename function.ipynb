{
  "cells": [
    {
      "cell_type": "markdown",
      "metadata": {
        "id": "view-in-github",
        "colab_type": "text"
      },
      "source": [
        "<a href=\"https://colab.research.google.com/github/antoscience/antoscience/blob/main/function.ipynb\" target=\"_parent\"><img src=\"https://colab.research.google.com/assets/colab-badge.svg\" alt=\"Open In Colab\"/></a>"
      ]
    },
    {
      "cell_type": "code",
      "execution_count": null,
      "id": "8de6520f",
      "metadata": {
        "id": "8de6520f",
        "outputId": "a6138e87-34b1-4f99-93ed-90675a794260"
      },
      "outputs": [
        {
          "ename": "IndexError",
          "evalue": "tuple index out of range",
          "output_type": "error",
          "traceback": [
            "\u001b[1;31m---------------------------------------------------------------------------\u001b[0m",
            "\u001b[1;31mIndexError\u001b[0m                                Traceback (most recent call last)",
            "Input \u001b[1;32mIn [39]\u001b[0m, in \u001b[0;36m<cell line: 29>\u001b[1;34m()\u001b[0m\n\u001b[0;32m     27\u001b[0m people \u001b[38;5;241m=\u001b[39m [\u001b[38;5;124m'\u001b[39m\u001b[38;5;124mgreat\u001b[39m\u001b[38;5;124m'\u001b[39m, \u001b[38;5;124m'\u001b[39m\u001b[38;5;124mvikky\u001b[39m\u001b[38;5;124m'\u001b[39m, \u001b[38;5;124m'\u001b[39m\u001b[38;5;124mmike\u001b[39m\u001b[38;5;124m'\u001b[39m, \u001b[38;5;124m'\u001b[39m\u001b[38;5;124mjude\u001b[39m\u001b[38;5;124m'\u001b[39m, \u001b[38;5;124m'\u001b[39m\u001b[38;5;124mcaled\u001b[39m\u001b[38;5;124m'\u001b[39m, \u001b[38;5;124m'\u001b[39m\u001b[38;5;124mkelechi\u001b[39m\u001b[38;5;124m'\u001b[39m]\n\u001b[0;32m     28\u001b[0m \u001b[38;5;66;03m# print(type())\u001b[39;00m\n\u001b[1;32m---> 29\u001b[0m \u001b[43mprint_second_student\u001b[49m\u001b[43m(\u001b[49m\u001b[43m[\u001b[49m\u001b[43mpeople\u001b[49m\u001b[43m]\u001b[49m\u001b[43m)\u001b[49m\n",
            "Input \u001b[1;32mIn [39]\u001b[0m, in \u001b[0;36mprint_second_student\u001b[1;34m(*studentname)\u001b[0m\n\u001b[0;32m     24\u001b[0m \u001b[38;5;28;01mdef\u001b[39;00m \u001b[38;5;21mprint_second_student\u001b[39m(\u001b[38;5;241m*\u001b[39mstudentname):\n\u001b[1;32m---> 25\u001b[0m     \u001b[38;5;28mprint\u001b[39m (\u001b[38;5;124m\"\u001b[39m\u001b[38;5;124mThe student in second position is\u001b[39m\u001b[38;5;124m\"\u001b[39m, \u001b[43mstudentname\u001b[49m\u001b[43m[\u001b[49m\u001b[38;5;241;43m3\u001b[39;49m\u001b[43m]\u001b[49m)\n",
            "\u001b[1;31mIndexError\u001b[0m: tuple index out of range"
          ]
        }
      ],
      "source": [
        "# FUNCTIONS\n",
        "# A function is a block of code that only runs when it is called.\n",
        "# You can pass data known as parameters in a function\n",
        "# A function returns data as a result\n",
        "# In python, a function is defined using the def keyword\n",
        "# Example\n",
        "\n",
        "lis = []\n",
        "\n",
        "lis.append(85)\n",
        "\n",
        "def myname():\n",
        "    print(\"Onyekachi\")\n",
        "    \n",
        "\n",
        "def add_nums(num1, num2, num3):\n",
        "    print( num1 + num2 + num3)\n",
        "\n",
        "# add_nums(9,9,8)\n",
        "\n",
        "def multi_add(*number):\n",
        "    return sum(number)\n",
        "\n",
        "def print_second_student(*studentname):\n",
        "    print (\"The student in second position is\", studentname[3])\n",
        "    \n",
        "# people = ['great', 'vikky', 'mike', 'jude', 'caled', 'kelechi']\n",
        "# # print(type())\n",
        "# print_second_student([people])\n",
        "\n",
        "# print(lis)\n",
        "\n",
        "# print(multi_add(10, 10, 10, 10, 10, 10, 10, 10, 10, 10))\n",
        "# # multi_add(9, 9, 9)\n",
        "\n",
        "# # add_nums(9, 9)\n",
        "\n",
        "# # myname()"
      ]
    },
    {
      "cell_type": "code",
      "execution_count": null,
      "id": "070cd2a4",
      "metadata": {
        "id": "070cd2a4"
      },
      "outputs": [],
      "source": []
    }
  ],
  "metadata": {
    "kernelspec": {
      "display_name": "Python 3 (ipykernel)",
      "language": "python",
      "name": "python3"
    },
    "language_info": {
      "codemirror_mode": {
        "name": "ipython",
        "version": 3
      },
      "file_extension": ".py",
      "mimetype": "text/x-python",
      "name": "python",
      "nbconvert_exporter": "python",
      "pygments_lexer": "ipython3",
      "version": "3.9.12"
    },
    "colab": {
      "provenance": [],
      "include_colab_link": true
    }
  },
  "nbformat": 4,
  "nbformat_minor": 5
}